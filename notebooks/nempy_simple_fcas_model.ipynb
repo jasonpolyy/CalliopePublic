{
 "cells": [
  {
   "cell_type": "code",
   "execution_count": 1,
   "metadata": {},
   "outputs": [],
   "source": [
    "from calliope.data import DataManager\n",
    "from calliope.market import MeritOrderNEM, DataToBidObjInterface\n",
    "import pandas as pd\n",
    "import sqlite3\n",
    "con = sqlite3.connect(\"E:\\Code\\Calliope/notebooks\\historical_mms.db\")\n",
    "import datetime\n",
    "data_manager = DataManager(con)\n",
    "import matplotlib.pyplot as plt\n",
    "import time\n",
    "from nempy import markets"
   ]
  },
  {
   "cell_type": "code",
   "execution_count": 2,
   "metadata": {},
   "outputs": [],
   "source": [
    "import warnings\n",
    "warnings.simplefilter(action='ignore', category=FutureWarning)\n",
    "pd.options.mode.chained_assignment = None  # default='warn'\n",
    "\n",
    "start_date = '2019/01/01 00:00:00'\n",
    "end_date = '2019/02/01 00:00:00'\n",
    "region = 'NSW1'\n"
   ]
  },
  {
   "cell_type": "code",
   "execution_count": 3,
   "metadata": {},
   "outputs": [],
   "source": [
    "data_manager.load_data(start_date, end_date, region)"
   ]
  },
  {
   "cell_type": "code",
   "execution_count": 5,
   "metadata": {},
   "outputs": [],
   "source": [
    "cost = {\n",
    "    'regional_demand': 2175000.0, \n",
    "    'interocnnector': 16675000.0, \n",
    "    'generic_constraint': 435000.0, \n",
    "    'ramp_rate': 16747500.0, \n",
    "    'unit_capacity': 5365000.0, \n",
    "    'energy_offer': 16457500.0, \n",
    "    'fcas_profile': 2247500.0, \n",
    "    'fcas_max_avail': 2247500.0, \n",
    "    'fcas_enablement_min': 1015000.0, \n",
    "    'fcas_enablement_max': 1015000.0, \n",
    "    'fast_start': 16385000.0, \n",
    "    'mnsp_ramp_rate': 16747500.0, \n",
    "    'msnp_offer': 16457500.0, \n",
    "    'mnsp_capacity': 5292500.0, \n",
    "    'uigf': 5582500.0, \n",
    "    'voll': 14500.0,\n",
    "    'tiebreak': 1e-06\n",
    "}\n",
    "\n",
    "aemo_to_nempy_service_name={\n",
    "    'ENERGY': 'energy',\n",
    "    'LOWER5MIN': 'lower_5min',\n",
    "    'LOWER60SEC': 'lower_60s', \n",
    "    'LOWER6SEC': 'lower_6s', \n",
    "    'LOWERREG': 'lower_reg', \n",
    "    'RAISE5MIN': 'raise_5min',\n",
    "    'RAISE60SEC': 'raise_60s', \n",
    "    'RAISE6SEC': 'raise_6s', \n",
    "    'RAISEREG': 'raise_reg'\n",
    "}\n",
    "\n",
    "dispatch_type_map = {\n",
    "    'GENERATOR':'generator',\n",
    "    'LOAD': 'load'\n",
    "\n",
    "}"
   ]
  },
  {
   "cell_type": "code",
   "execution_count": 6,
   "metadata": {},
   "outputs": [],
   "source": [
    "# Preprocessing up front to maximise time not used in dispatch\n",
    "unit_info = data_manager.unit_mapping.copy()\n",
    "unit_info.columns = ['unit', 'region', 'dispatch_type']\n",
    "unit_info['region'] = 'NSW'\n",
    "unit_info['dispatch_type'] = unit_info.apply(lambda x: dispatch_type_map[x.dispatch_type], axis=1)\n",
    "\n",
    "\n",
    "# get bids\n",
    "volume_bids = data_manager.volume_bids.copy()\n",
    "price_bids = data_manager.price_bids.copy()\n",
    "\n",
    "# get fcas trapeziums from bids\n",
    "fcas_trapeziums = volume_bids.loc[volume_bids.BIDTYPE != 'ENERGY']\n",
    "\n",
    "fcas_trapeziums = fcas_trapeziums[\n",
    "    ['INTERVAL_DATETIME','DUID','BIDTYPE','MAXAVAIL','ENABLEMENTMIN','ENABLEMENTMAX','LOWBREAKPOINT','HIGHBREAKPOINT']\n",
    "]\n",
    "fcas_trapeziums.columns = [\n",
    "    'INTERVAL_DATETIME','unit', 'service',\n",
    "    'max_availability', \n",
    "    'enablement_min', 'enablement_max', \n",
    "    'low_break_point', 'high_break_point'\n",
    "]\n",
    "fcas_trapeziums['service'] = fcas_trapeziums.apply(lambda x: aemo_to_nempy_service_name[x.service], axis=1)\n",
    "\n",
    "\n",
    "# bids to nempy format\n",
    "volume_bids = volume_bids[['INTERVAL_DATETIME','DUID', 'BIDTYPE'] + [f'BANDAVAIL{i}' for i in range(1,11)]]\n",
    "volume_bids.columns = ['INTERVAL_DATETIME', 'unit', 'service'] + [f'{i}' for i in range(1,11)]\n",
    "volume_bids['service'] = volume_bids.apply(lambda x: aemo_to_nempy_service_name[x.service], axis=1)\n",
    "\n",
    "price_bids = price_bids[['SETTLEMENTDATE','DUID', 'BIDTYPE']+[f'PRICEBAND{i}' for i in range(1,11)]]\n",
    "price_bids.columns = ['SETTLEMENTDATE', 'unit', 'service'] + [f'{i}' for i in range(1,11)]\n",
    "price_bids['service'] = price_bids.apply(lambda x: aemo_to_nempy_service_name[x.service], axis=1)\n",
    "\n",
    "# get fcas requirements\n",
    "fcas_requirements = data_manager.fcas_requirements\n",
    "\n",
    "mapping = {\n",
    "    'RAISEREG': ('NSW', 'raise_reg'),\n",
    "    'LOWERREG': ('NSW', 'lower_reg'),\n",
    "    'RAISE6SEC': ('NSW', 'raise_6s'),\n",
    "    'RAISE60SEC': ('NSW', 'raise_60s'),\n",
    "    'RAISE5MIN': ('NSW', 'raise_5min'),\n",
    "    'LOWER6SEC': ('NSW', 'lower_6s'),\n",
    "    'LOWER60SEC': ('NSW', 'lower_60s'),\n",
    "    'LOWER5MIN': ('NSW', 'lower_5min')\n",
    "}\n",
    "\n",
    "\n",
    "# Demand\n",
    "demand = data_manager.regional_demand.copy()\n",
    "demand = demand[['SETTLEMENTDATE','REGIONID', 'TOTALDEMAND']]\n",
    "demand.columns = ['SETTLEMENTDATE','region', 'demand']\n",
    "demand['region'] = 'NSW'"
   ]
  },
  {
   "cell_type": "code",
   "execution_count": 21,
   "metadata": {},
   "outputs": [
    {
     "name": "stdout",
     "output_type": "stream",
     "text": [
      "Model infeasible attempting to find problem constraint.\n",
      "Couldn't find an optimal solution, but removing con ['0', '1', '2', '3', '4', '5', '6', '7', '8', '9', '10', '11', '12', '13', '14', '15', '16', '17', '18', '19', '20', '21', '22', '23', '24', '25', '26', '27', '28', '29', '30', '31', '32', '33', '34', '35', '36', '37', '38', '39', '40', '41', '42', '43', '44', '45', '46', '47', '48', '49', '50', '51', '52', '53', '54', '55', '56', '57', '58', '59', '60', '61', '62', '63', '64', '65', '66', '67', '68', '69', '70', '71', '72', '73', '74', '75', '76', '77', '78', '79', '80', '81', '82', '83', '84', '85', '86', '87', '88', '89', '90', '91', '92', '93', '94', '95', '96', '97', '98', '99', '100', '101', '102', '103', '104', '105', '106', '107', '108', '109', '110', '111', '112', '113', '114', '115', '116', '117', '118', '119', '120', '121', '122', '123', '124', '125', '126', '127', '128', '129', '130', '131', '132', '133', '134', '135', '136', '137', '138', '139', '140', '141', '142', '143', '144', '145', '146', '147', '148', '149', '150', '151', '152', '153', '154', '155', '156', '157', '158', '159', '160', '161', '162', '163', '164', '165', '166', '167', '168', '169', '170', '171', '172', '173', '174', '175', '176', '177', '178', '179', '180', '181', '182', '183', '184', '185', '186', '187', '188', '189', '190', '191', '192', '193', '194', '195', '196', '197', '198', '199', '200', '201', '202', '203', '204', '205', '206', '207', '208', '209', '210', '211', '212', '213', '214', '215', '216', '217', '218', '219', '220', '221', '222', '223', '224', '225', '226', '227', '228', '229', '230', '231', '232', '233', '234', '235', '236', '237', '238', '239', '240', '241', '242', '243', '244', '245', '246', '247', '248', '249', '250', '251', '252', '253', '254', '255', '256', '257', '258', '259', '260', '261', '262', '263', '264', '265', '266', '267', '268', '269', '270', '271', '272', '273', '274', '275', '276', '277', '278', '279', '280', '281', '282', '283', '284', '285', '286', '287', '288', '289', '290', '291', '292', '293', '294', '295', '296', '297', '298', '299', '300', '301', '302', '303', '304', '305', '306', '307', '308', '309', '310', '311', '312', '313', '314', '315', '316', '317', '318', '319', '320', '321', '322', '323', '324', '325', '326', '327', '328', '329', '330', '331', '332', '333', '334', '335', '336', '337', '338', '339', '340', '341', '342', '343', '344', '345', '346', '347', '348', '349', '350', '351', '352', '353', '354', '355', '356', '357', '358', '359', '360', '361', '362', '363', '364', '365', '366', '367', '368', '369', '370', '371', '372', '373', '374', '375', '376', '377', '378', '379', '380', '381', '382', '383', '384', '385', '386', '387', '388', '389', '390', '391', '392', '393', '394', '395', '396', '397', '398', '399', '400', '401', '402', '403', '404', '405', '406', '407', '408', '409', '410', '411', '412', '413', '414', '415', '416', '417', '418', '419', '420', '421', '422', '423', '424', '425', '426', '427', '428', '429', '430', '431', '432', '433', '434', '435', '436', '437', '438', '439', '440', '441', '442', '443', '444', '445', '446', '447', '448', '449', '450', '451', '452', '453', '454', '455', '456', '457', '458', '459', '460', '461', '462', '463', '464', '465', '466', '467', '468', '469', '470', '471', '472', '473', '474', '475', '476', '477', '478', '479', '480', '481', '482', '483', '484', '485', '486', '487', '488', '489', '490', '491', '492', '493', '494', '495', '496', '497', '498', '499', '500', '501', '502', '503', '504', '505', '506', '507', '508', '509', '510', '511', '512', '513', '514', '515', '516', '517', '518', '519', '520', '521', '522', '523', '524', '525', '526', '527', '528', '529', '530', '531', '532', '533', '534', '535', '536', '537', '538', '539', '540', '541', '542', '543', '544', '545', '546', '547', '548', '549', '550'] fixed INFEASIBLITY\n"
     ]
    },
    {
     "ename": "ValueError",
     "evalue": "Linear program infeasible",
     "output_type": "error",
     "traceback": [
      "\u001b[1;31m---------------------------------------------------------------------------\u001b[0m",
      "\u001b[1;31mValueError\u001b[0m                                Traceback (most recent call last)",
      "Cell \u001b[1;32mIn[21], line 82\u001b[0m\n\u001b[0;32m     78\u001b[0m market\u001b[38;5;241m.\u001b[39mmake_constraints_elastic(\u001b[38;5;124m'\u001b[39m\u001b[38;5;124menergy_and_regulation_capacity\u001b[39m\u001b[38;5;124m'\u001b[39m, cost[\u001b[38;5;124m'\u001b[39m\u001b[38;5;124mfcas_profile\u001b[39m\u001b[38;5;124m'\u001b[39m])\n\u001b[0;32m     81\u001b[0m dispatch_time_i \u001b[38;5;241m=\u001b[39m time\u001b[38;5;241m.\u001b[39mtime()\n\u001b[1;32m---> 82\u001b[0m market\u001b[38;5;241m.\u001b[39mdispatch()\n\u001b[0;32m     83\u001b[0m avg_dispatch_time \u001b[38;5;241m=\u001b[39m avg_dispatch_time \u001b[38;5;241m+\u001b[39m ((time\u001b[38;5;241m.\u001b[39mtime() \u001b[38;5;241m-\u001b[39m dispatch_time_i) \u001b[38;5;241m-\u001b[39m avg_dispatch_time)\u001b[38;5;241m/\u001b[39m(timestep\u001b[38;5;241m+\u001b[39m\u001b[38;5;241m1\u001b[39m)\n\u001b[0;32m     84\u001b[0m avg_total_time \u001b[38;5;241m=\u001b[39m avg_total_time \u001b[38;5;241m+\u001b[39m ((time\u001b[38;5;241m.\u001b[39mtime() \u001b[38;5;241m-\u001b[39m total_time_i) \u001b[38;5;241m-\u001b[39m avg_total_time)\u001b[38;5;241m/\u001b[39m(timestep\u001b[38;5;241m+\u001b[39m\u001b[38;5;241m1\u001b[39m)\n",
      "File \u001b[1;32mc:\\Users\\Jason\\anaconda3\\envs\\calliope_venv\\Lib\\site-packages\\nempy\\markets.py:2786\u001b[0m, in \u001b[0;36mSpotMarket.dispatch\u001b[1;34m(self, energy_market_ceiling_price, energy_market_floor_price, fcas_market_ceiling_price, allow_over_constrained_dispatch_re_run)\u001b[0m\n\u001b[0;32m   2783\u001b[0m         special_ordered_sets \u001b[38;5;241m=\u001b[39m special_ordered_sets\u001b[38;5;241m.\u001b[39mrename(columns\u001b[38;5;241m=\u001b[39m{\u001b[38;5;124m'\u001b[39m\u001b[38;5;124minterconnector\u001b[39m\u001b[38;5;124m'\u001b[39m: \u001b[38;5;124m'\u001b[39m\u001b[38;5;124msos_id\u001b[39m\u001b[38;5;124m'\u001b[39m})\n\u001b[0;32m   2784\u001b[0m         si\u001b[38;5;241m.\u001b[39madd_sos_type_1(special_ordered_sets)\n\u001b[1;32m-> 2786\u001b[0m si\u001b[38;5;241m.\u001b[39moptimize()\n\u001b[0;32m   2788\u001b[0m \u001b[38;5;66;03m# Find the slack in constraints.\u001b[39;00m\n\u001b[0;32m   2789\u001b[0m \u001b[38;5;28;01mif\u001b[39;00m \u001b[38;5;28mself\u001b[39m\u001b[38;5;241m.\u001b[39m_constraints_rhs_and_type:\n",
      "File \u001b[1;32mc:\\Users\\Jason\\anaconda3\\envs\\calliope_venv\\Lib\\site-packages\\nempy\\spot_markert_backend\\solver_interface.py:296\u001b[0m, in \u001b[0;36mInterfaceToSolver.optimize\u001b[1;34m(self)\u001b[0m\n\u001b[0;32m    294\u001b[0m con_index \u001b[38;5;241m=\u001b[39m find_problem_constraint(\u001b[38;5;28mself\u001b[39m\u001b[38;5;241m.\u001b[39mmip_model)\n\u001b[0;32m    295\u001b[0m \u001b[38;5;28mprint\u001b[39m(\u001b[38;5;124m'\u001b[39m\u001b[38;5;124mCouldn\u001b[39m\u001b[38;5;130;01m\\'\u001b[39;00m\u001b[38;5;124mt find an optimal solution, but removing con \u001b[39m\u001b[38;5;132;01m{}\u001b[39;00m\u001b[38;5;124m fixed INFEASIBLITY\u001b[39m\u001b[38;5;124m'\u001b[39m\u001b[38;5;241m.\u001b[39mformat(con_index))\n\u001b[1;32m--> 296\u001b[0m \u001b[38;5;28;01mraise\u001b[39;00m \u001b[38;5;167;01mValueError\u001b[39;00m(\u001b[38;5;124m'\u001b[39m\u001b[38;5;124mLinear program infeasible\u001b[39m\u001b[38;5;124m'\u001b[39m)\n",
      "\u001b[1;31mValueError\u001b[0m: Linear program infeasible"
     ]
    }
   ],
   "source": [
    "energy_prices = pd.DataFrame()\n",
    "fcas_prices = pd.DataFrame()\n",
    "\n",
    "avg_total_time = 0\n",
    "avg_dispatch_time = 0\n",
    "\n",
    "for timestep in range(0, len(data_manager.dispatch_intervals)):\n",
    "# for timestep in range(0, 100):\n",
    "    \n",
    "    # Initialise market outside\n",
    "    market = markets.SpotMarket(\n",
    "        unit_info=unit_info,\n",
    "        market_regions=['NSW'])\n",
    "    market.solver = 'GUROBI'\n",
    "\n",
    "    total_time_i = time.time()\n",
    "    di_curr = data_manager.dispatch_intervals[timestep]\n",
    "\n",
    "    volume_bids_di = volume_bids.loc[volume_bids.INTERVAL_DATETIME == di_curr]\n",
    "    volume_bids_di = volume_bids_di[volume_bids_di.columns[~volume_bids_di.columns.isin(['INTERVAL_DATETIME'])]]\n",
    "\n",
    "    price_bids_di = price_bids.loc[\n",
    "        price_bids.SETTLEMENTDATE == pd.to_datetime(di_curr.date() - datetime.timedelta(seconds=1))\n",
    "    ]\n",
    "    price_bids_di = price_bids_di[price_bids_di.columns[~price_bids_di.columns.isin(['SETTLEMENTDATE'])]]\n",
    "\n",
    "\n",
    "    demand_di = demand.loc[demand.SETTLEMENTDATE == di_curr]\n",
    "    demand_di = demand_di[demand_di.columns[~demand_di.columns.isin(['SETTLEMENTDATE'])]]\n",
    "\n",
    "\n",
    "\n",
    "    # Create constraints that enforce the top of the FCAS trapezium.\n",
    "    fcas_trapeziums_di = fcas_trapeziums.loc[fcas_trapeziums.INTERVAL_DATETIME == di_curr]\n",
    "    fcas_trapeziums_di = fcas_trapeziums_di[fcas_trapeziums_di.columns[~fcas_trapeziums_di.columns.isin(['INTERVAL_DATETIME'])]]\n",
    "\n",
    "    fcas_availability = fcas_trapeziums_di.loc[:, ['unit', 'service', 'max_availability']]\n",
    "\n",
    "\n",
    "    fcas_requirements_di = fcas_requirements.loc[fcas_requirements.SETTLEMENTDATE == di_curr]\n",
    "    fcas_requirements_di = fcas_requirements_di[fcas_requirements_di.columns[~fcas_requirements_di.columns.isin(['SETTLEMENTDATE'])]]\n",
    "\n",
    "    # Create new DataFrame\n",
    "    data = []\n",
    "    for key, (region, service) in mapping.items():\n",
    "        volume = list(fcas_requirements_di[key].values)[0]\n",
    "\n",
    "        set = f'{region.lower()}_{service}_requirement'\n",
    "\n",
    "        data.append({\n",
    "            'set': set,\n",
    "            'region': region,\n",
    "            'service': service,\n",
    "            'volume': volume,\n",
    "            'type': '>='\n",
    "        })\n",
    "\n",
    "    fcas_requirements_di = pd.DataFrame(data)\n",
    "\n",
    "    market.set_unit_volume_bids(volume_bids_di)\n",
    "    market.set_unit_price_bids(price_bids_di)\n",
    "    market.set_fcas_max_availability(fcas_availability)\n",
    "    market.make_constraints_elastic('fcas_max_availability', cost['fcas_max_avail'])\n",
    "\n",
    "    market.set_fcas_requirements_constraints(fcas_requirements_di)\n",
    "    market.make_constraints_elastic('fcas', cost['fcas_profile'])\n",
    "\n",
    "    market.set_demand_constraints(demand_di)\n",
    "\n",
    "    contingency_trapeziums = fcas_trapeziums_di[~fcas_trapeziums_di['service'].isin(['raise_reg', 'lower_reg'])]\n",
    "    market.set_joint_capacity_constraints(contingency_trapeziums)\n",
    "    market.make_constraints_elastic('joint_capacity', cost['fcas_profile'])\n",
    "\n",
    "\n",
    "    regulation_trapeziums = fcas_trapeziums_di[fcas_trapeziums_di['service'].isin(['raise_reg', 'lower_reg'])]\n",
    "    market.set_energy_and_regulation_capacity_constraints(regulation_trapeziums)\n",
    "    market.make_constraints_elastic('energy_and_regulation_capacity', cost['fcas_profile'])\n",
    "\n",
    "\n",
    "    dispatch_time_i = time.time()\n",
    "    market.dispatch()\n",
    "    avg_dispatch_time = avg_dispatch_time + ((time.time() - dispatch_time_i) - avg_dispatch_time)/(timestep+1)\n",
    "    avg_total_time = avg_total_time + ((time.time() - total_time_i) - avg_total_time)/(timestep+1)\n",
    "\n",
    "    if not timestep % 12:\n",
    "        print(f'At DI {di_curr}')\n",
    "        print(f'\\tAverage time for full iteration: {avg_total_time}')\n",
    "        print(f'\\tAverage time for market dispatch: {avg_dispatch_time}')\n",
    "\n",
    "    # energy_prices = pd.concat([energy_prices, market.get_energy_prices()]).reset_index(drop=True)\n",
    "    # fcas_prices = pd.concat([fcas_prices, market.get_fcas_prices()]).reset_index(drop=True)"
   ]
  },
  {
   "cell_type": "code",
   "execution_count": 42,
   "metadata": {},
   "outputs": [],
   "source": [
    "import pandas as pd\n",
    "\n",
    "from nempy import markets\n",
    "\n",
    "\n",
    "# Set options so you see all DataFrame columns in print outs.\n",
    "\n",
    "pd.options.display.width = 0\n",
    "\n",
    "# Volume of each bid.\n",
    "\n",
    "volume_bids = pd.DataFrame({\n",
    "\n",
    "    'unit': ['A', 'A', 'B', 'B', 'B'],\n",
    "\n",
    "    'service': ['energy', 'raise_6s', 'energy',\n",
    "\n",
    "                'raise_6s', 'raise_reg'],\n",
    "\n",
    "    '1': [100.0, 10.0, 110.0, 15.0, 15.0],  # MW\n",
    "\n",
    "})\n",
    "\n",
    "\n",
    "\n",
    "# Price of each bid.\n",
    "\n",
    "price_bids = pd.DataFrame({\n",
    "\n",
    "    'unit': ['A', 'A', 'B', 'B', 'B'],\n",
    "\n",
    "    'service': ['energy', 'raise_6s', 'energy',\n",
    "\n",
    "                'raise_6s', 'raise_reg'],\n",
    "\n",
    "    '1': [50.0, 35.0, 60.0, 20.0, 30.0],  # $/MW\n",
    "\n",
    "})\n",
    "\n",
    "\n",
    "# Participant defined operational constraints on FCAS enablement.\n",
    "\n",
    "fcas_trapeziums = pd.DataFrame({\n",
    "\n",
    "    'unit': ['B', 'B', 'A'],\n",
    "\n",
    "    'service': ['raise_reg', 'raise_6s', 'raise_6s'],\n",
    "\n",
    "    'max_availability': [15.0, 15.0, 10.0],\n",
    "\n",
    "    'enablement_min': [50.0, 50.0, 70.0],\n",
    "\n",
    "    'low_break_point': [65.0, 65.0, 80.0],\n",
    "\n",
    "    'high_break_point': [95.0, 95.0, 100.0],\n",
    "\n",
    "    'enablement_max': [110.0, 110.0, 110.0]\n",
    "\n",
    "})\n",
    "\n",
    "\n",
    "\n",
    "# Unit locations.\n",
    "\n",
    "unit_info = pd.DataFrame({\n",
    "\n",
    "    'unit': ['A', 'B'],\n",
    "\n",
    "    'region': ['NSW', 'NSW']\n",
    "\n",
    "})\n",
    "\n",
    "\n",
    "\n",
    "# The demand in the region\\s being dispatched.\n",
    "\n",
    "demand = pd.DataFrame({\n",
    "\n",
    "    'region': ['NSW'],\n",
    "\n",
    "    'demand': [195.0]  # MW\n",
    "\n",
    "})\n",
    "\n",
    "\n",
    "\n",
    "# FCAS requirement in the region\\s being dispatched.\n",
    "\n",
    "fcas_requirements = pd.DataFrame({\n",
    "\n",
    "    'set': ['nsw_regulation_requirement', 'nsw_raise_6s_requirement'],\n",
    "\n",
    "    'region': ['NSW', 'NSW'],\n",
    "\n",
    "    'service': ['raise_reg', 'raise_6s'],\n",
    "\n",
    "    'volume': [10.0, 10.0]  # MW\n",
    "    \n",
    "\n",
    "})\n",
    "\n",
    "#                           set region    service  volume\n",
    "\n",
    "# 0  nsw_regulation_requirement    NSW  raise_reg    10.0\n",
    "\n",
    "# 1    nsw_raise_6s_requirement    NSW   raise_6s    10.0\n",
    "\n",
    "\n",
    "# Create the market model with unit service bids.\n",
    "\n",
    "market = markets.SpotMarket(unit_info=unit_info,\n",
    "                            market_regions=['NSW'])\n",
    "market.set_unit_volume_bids(volume_bids)\n",
    "market.set_unit_price_bids(price_bids)\n",
    "# Create constraints that enforce the top of the FCAS trapezium.\n",
    "fcas_availability = fcas_trapeziums.loc[:, ['unit', 'service', 'max_availability']]\n",
    "market.set_fcas_max_availability(fcas_availability)\n",
    "\n",
    "# Create constraints that enforce the lower and upper slope of the FCAS regulation\n",
    "\n",
    "# service trapeziums.\n",
    "\n",
    "regulation_trapeziums = fcas_trapeziums[fcas_trapeziums['service'] == 'raise_reg']\n",
    "market.set_energy_and_regulation_capacity_constraints(regulation_trapeziums)\n",
    "\n",
    "# Create constraints that enforce the lower and upper slope of the FCAS contingency\n",
    "# trapezium. These constrains also scale slopes of the trapezium to ensure the\n",
    "# co-dispatch of contingency and regulation services is technically feasible.\n",
    "contingency_trapeziums = fcas_trapeziums[fcas_trapeziums['service'] == 'raise_6s']\n",
    "market.set_joint_capacity_constraints(contingency_trapeziums)\n",
    "\n",
    "\n",
    "# Set the demand for energy.\n",
    "market.set_demand_constraints(demand)\n",
    "\n",
    "# Set the required volume of FCAS services.\n",
    "market.set_fcas_requirements_constraints(fcas_requirements)\n",
    "\n",
    "# Calculate dispatch and pricing\n",
    "market.dispatch()\n",
    "\n",
    "\n",
    "\n"
   ]
  },
  {
   "cell_type": "code",
   "execution_count": 18,
   "metadata": {},
   "outputs": [
    {
     "data": {
      "text/plain": [
       "<Axes: >"
      ]
     },
     "execution_count": 18,
     "metadata": {},
     "output_type": "execute_result"
    },
    {
     "data": {
      "image/png": "[encoded data removed]",
      "text/plain": [
       "<Figure size 640x480 with 1 Axes>"
      ]
     },
     "metadata": {},
     "output_type": "display_data"
    }
   ],
   "source": [
    "energy_prices.price.plot()"
   ]
  },
  {
   "cell_type": "code",
   "execution_count": 26,
   "metadata": {},
   "outputs": [
    {
     "data": {
      "text/plain": [
       "<Axes: >"
      ]
     },
     "execution_count": 26,
     "metadata": {},
     "output_type": "execute_result"
    },
    {
     "data": {
      "image/png": "[encoded data removed]",
      "text/plain": [
       "<Figure size 640x480 with 1 Axes>"
      ]
     },
     "metadata": {},
     "output_type": "display_data"
    }
   ],
   "source": [
    "fcas_prices.loc[fcas_prices.service=='raise_6s'].price.plot()"
   ]
  },
  {
   "cell_type": "code",
   "execution_count": 6,
   "metadata": {},
   "outputs": [],
   "source": [
    "nem = MeritOrderNEM(data_manager)\n",
    "nem.build()\n",
    "nem.load_bids_from_pickle('bid_dict_jan_nsw.pkl')"
   ]
  },
  {
   "cell_type": "code",
   "execution_count": 7,
   "metadata": {},
   "outputs": [
    {
     "name": "stdout",
     "output_type": "stream",
     "text": [
      "DI 288\n",
      "DI 576\n",
      "DI 864\n",
      "DI 1152\n",
      "DI 1440\n",
      "DI 1728\n",
      "DI 2016\n",
      "DI 2304\n",
      "DI 2592\n",
      "DI 2880\n",
      "DI 3168\n",
      "DI 3456\n",
      "DI 3744\n",
      "DI 4032\n",
      "DI 4320\n",
      "DI 4608\n",
      "DI 4896\n",
      "DI 5184\n",
      "DI 5472\n",
      "DI 5760\n",
      "DI 6048\n",
      "DI 6336\n",
      "DI 6624\n",
      "DI 6912\n",
      "DI 7200\n",
      "DI 7488\n",
      "DI 7776\n",
      "DI 8064\n",
      "DI 8352\n",
      "DI 8640\n"
     ]
    }
   ],
   "source": [
    "from calliope.market import MARKETS\n",
    "\n",
    "prices = {m: [] for m in MARKETS}\n",
    "\n",
    "# run thru and append market prices\n",
    "i = 0\n",
    "while not nem.terminated:\n",
    "    i+=1\n",
    "\n",
    "    if not i%288:\n",
    "        print(f'DI {i}')\n",
    "    nem.add_bids()\n",
    "    dispatch = nem.dispatch()\n",
    "    nem.step()\n",
    "    for m in MARKETS:\n",
    "        prices[m].append(dispatch[m]['price'])\n",
    "    # print(dispatch['ENERGY']['price'])\n",
    "    # print(dispatch['ENERGY']['demand'])\n",
    "# dispatch['ENERGY']['dispatch']\n",
    "    \n",
    "nem.reset()"
   ]
  },
  {
   "cell_type": "code",
   "execution_count": 25,
   "metadata": {},
   "outputs": [
    {
     "name": "stdout",
     "output_type": "stream",
     "text": [
      "MACARTH1, 4: <-96.14,15.520000000000437>\n"
     ]
    }
   ],
   "source": [
    "print(dispatch['ENERGY']['winning_bids'][-1])"
   ]
  },
  {
   "cell_type": "code",
   "execution_count": 8,
   "metadata": {},
   "outputs": [
    {
     "data": {
      "text/plain": [
       "[<matplotlib.lines.Line2D at 0x297352c4190>]"
      ]
     },
     "execution_count": 8,
     "metadata": {},
     "output_type": "execute_result"
    },
    {
     "data": {
      "image/png": "[encoded data removed]",
      "text/plain": [
       "<Figure size 640x480 with 1 Axes>"
      ]
     },
     "metadata": {},
     "output_type": "display_data"
    }
   ],
   "source": [
    "plt.plot(prices['ENERGY'])"
   ]
  }
 ],
 "metadata": {
  "kernelspec": {
   "display_name": "calliope_venv",
   "language": "python",
   "name": "python3"
  },
  "language_info": {
   "codemirror_mode": {
    "name": "ipython",
    "version": 3
   },
   "file_extension": ".py",
   "mimetype": "text/x-python",
   "name": "python",
   "nbconvert_exporter": "python",
   "pygments_lexer": "ipython3",
   "version": "3.11.9"
  }
 },
 "nbformat": 4,
 "nbformat_minor": 2
}
